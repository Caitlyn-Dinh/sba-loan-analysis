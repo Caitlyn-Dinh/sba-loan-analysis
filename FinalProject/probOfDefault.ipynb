{
 "cells": [
  {
   "cell_type": "markdown",
   "id": "7af48344",
   "metadata": {},
   "source": [
    "Imports"
   ]
  },
  {
   "cell_type": "code",
   "execution_count": 16,
   "id": "922859b8",
   "metadata": {},
   "outputs": [],
   "source": [
    "import pandas as pd\n",
    "import numpy as np\n",
    "from sklearn.model_selection import train_test_split\n",
    "from sklearn.preprocessing import OneHotEncoder, StandardScaler\n",
    "from sklearn.impute import SimpleImputer\n",
    "from sklearn.pipeline import Pipeline\n",
    "from sklearn.compose import ColumnTransformer\n",
    "from sklearn.metrics import classification_report, roc_auc_score\n",
    "from sklearn.linear_model import LogisticRegression\n",
    "from sklearn.ensemble import RandomForestClassifier\n",
    "from xgboost import XGBClassifier\n"
   ]
  },
  {
   "cell_type": "markdown",
   "id": "fcb364c6",
   "metadata": {},
   "source": [
    "Load and Sample Data"
   ]
  },
  {
   "cell_type": "code",
   "execution_count": 5,
   "id": "7e1dfbf6",
   "metadata": {},
   "outputs": [
    {
     "data": {
      "text/plain": [
       "(50000, 43)"
      ]
     },
     "execution_count": 5,
     "metadata": {},
     "output_type": "execute_result"
    }
   ],
   "source": [
    "# Load CSV\n",
    "df = pd.read_csv('/Users/caitlyndinh/ai-academy/FinalProject/merged_with_naics.csv', low_memory=False)\n",
    "\n",
    "# Sample to reduce memory use\n",
    "df = df.sample(n=50000, random_state=42)  # Change sample size if needed\n",
    "df.shape\n"
   ]
  },
  {
   "cell_type": "markdown",
   "id": "7fbb469a",
   "metadata": {},
   "source": [
    "Create Target Variable"
   ]
  },
  {
   "cell_type": "code",
   "execution_count": 6,
   "id": "7e6fb7bf",
   "metadata": {},
   "outputs": [
    {
     "data": {
      "text/plain": [
       "Default\n",
       "0    44229\n",
       "1     5771\n",
       "Name: count, dtype: int64"
      ]
     },
     "execution_count": 6,
     "metadata": {},
     "output_type": "execute_result"
    }
   ],
   "source": [
    "df['Default'] = df['ChargeOffDate'].notna().astype(int)\n",
    "df = df.dropna(subset=['Default'])\n",
    "df['Default'].value_counts()\n"
   ]
  },
  {
   "cell_type": "markdown",
   "id": "9f4585ae",
   "metadata": {},
   "source": [
    "Drop Leakage Columns"
   ]
  },
  {
   "cell_type": "code",
   "execution_count": 7,
   "id": "4afd81ef",
   "metadata": {},
   "outputs": [],
   "source": [
    "leakage_cols = ['ChargeOffDate', 'GrossChargeOffAmount', 'PaidInFullDate', 'LoanStatus', 'FirstDisbursementDate']\n",
    "df = df.drop(columns=[col for col in leakage_cols if col in df.columns])\n"
   ]
  },
  {
   "cell_type": "markdown",
   "id": "71dc023d",
   "metadata": {},
   "source": [
    "Feature Selection"
   ]
  },
  {
   "cell_type": "code",
   "execution_count": 8,
   "id": "f68ce0e7",
   "metadata": {},
   "outputs": [],
   "source": [
    "features = [\n",
    "    'Program', 'Subprogram', 'GrossApproval', 'SBAGuaranteedApproval', 'ApprovalDate',\n",
    "    'InitialInterestRate', 'FixedOrVariableInterestInd', 'TermInMonths',\n",
    "    'BusinessType', 'BusinessAge', 'CollateralInd', 'RevolverStatus', 'JobsSupported', 'ProjectState'\n",
    "]\n",
    "\n",
    "X = df[features].copy()\n",
    "y = df['Default']\n"
   ]
  },
  {
   "cell_type": "markdown",
   "id": "66fe8bdc",
   "metadata": {},
   "source": [
    "Feature Engineering on Dates"
   ]
  },
  {
   "cell_type": "code",
   "execution_count": 9,
   "id": "d1f63840",
   "metadata": {},
   "outputs": [],
   "source": [
    "X['ApprovalDate'] = pd.to_datetime(X['ApprovalDate'], errors='coerce')\n",
    "X['ApprovalYear'] = X['ApprovalDate'].dt.year\n",
    "X['ApprovalMonth'] = X['ApprovalDate'].dt.month\n",
    "X = X.drop(columns=['ApprovalDate'])\n"
   ]
  },
  {
   "cell_type": "markdown",
   "id": "0bd2299b",
   "metadata": {},
   "source": [
    "Define Column Types"
   ]
  },
  {
   "cell_type": "code",
   "execution_count": 10,
   "id": "33cdda6e",
   "metadata": {},
   "outputs": [],
   "source": [
    "numeric_features = ['GrossApproval', 'SBAGuaranteedApproval', 'InitialInterestRate',\n",
    "                    'TermInMonths', 'JobsSupported', 'ApprovalYear', 'ApprovalMonth']\n",
    "\n",
    "categorical_features = [col for col in X.columns if col not in numeric_features]\n"
   ]
  },
  {
   "cell_type": "markdown",
   "id": "c434706f",
   "metadata": {},
   "source": [
    "Preprocessing Pipelines"
   ]
  },
  {
   "cell_type": "code",
   "execution_count": 19,
   "id": "c7eefb97",
   "metadata": {},
   "outputs": [],
   "source": [
    "numeric_transformer = Pipeline(steps=[\n",
    "    ('imputer', SimpleImputer(strategy='median')),\n",
    "    ('scaler', StandardScaler()) \n",
    "])\n",
    "\n",
    "categorical_transformer = Pipeline(steps=[\n",
    "    ('imputer', SimpleImputer(strategy='most_frequent')),\n",
    "    ('encoder', OneHotEncoder(handle_unknown='ignore', sparse_output=True))  # sparse to save memory\n",
    "])\n",
    "\n",
    "preprocessor = ColumnTransformer(\n",
    "    transformers=[\n",
    "        ('num', numeric_transformer, numeric_features),\n",
    "        ('cat', categorical_transformer, categorical_features)\n",
    "    ]\n",
    ")\n"
   ]
  },
  {
   "cell_type": "markdown",
   "id": "6ea572a9",
   "metadata": {},
   "source": [
    "Split the Data"
   ]
  },
  {
   "cell_type": "code",
   "execution_count": 13,
   "id": "a231ac3d",
   "metadata": {},
   "outputs": [
    {
     "data": {
      "text/plain": [
       "((40000, 15), (10000, 15))"
      ]
     },
     "execution_count": 13,
     "metadata": {},
     "output_type": "execute_result"
    }
   ],
   "source": [
    "X_train, X_test, y_train, y_test = train_test_split(\n",
    "    X, y, stratify=y, test_size=0.2, random_state=42\n",
    ")\n",
    "\n",
    "X_train.shape, X_test.shape\n"
   ]
  },
  {
   "cell_type": "markdown",
   "id": "9ad51ac2",
   "metadata": {},
   "source": [
    "Define Training & Evaluation Function"
   ]
  },
  {
   "cell_type": "code",
   "execution_count": 29,
   "id": "4bae1296",
   "metadata": {},
   "outputs": [
    {
     "name": "stdout",
     "output_type": "stream",
     "text": [
      " Logistic Regression Results\n",
      "===================================\n",
      "              precision    recall  f1-score   support\n",
      "\n",
      "           0       0.80      0.73      0.76     20000\n",
      "           1       0.75      0.82      0.79     20000\n",
      "\n",
      "    accuracy                           0.77     40000\n",
      "   macro avg       0.78      0.77      0.77     40000\n",
      "weighted avg       0.78      0.77      0.77     40000\n",
      "\n",
      "AUC: 0.8415661862499999\n",
      " Random Forest Results\n",
      "===================================\n",
      "              precision    recall  f1-score   support\n",
      "\n",
      "           0       0.92      0.90      0.91     20000\n",
      "           1       0.90      0.92      0.91     20000\n",
      "\n",
      "    accuracy                           0.91     40000\n",
      "   macro avg       0.91      0.91      0.91     40000\n",
      "weighted avg       0.91      0.91      0.91     40000\n",
      "\n",
      "AUC: 0.96518498875\n",
      " XGBoost Results\n",
      "===================================\n",
      "              precision    recall  f1-score   support\n",
      "\n",
      "           0       0.94      0.91      0.93     20000\n",
      "           1       0.92      0.94      0.93     20000\n",
      "\n",
      "    accuracy                           0.93     40000\n",
      "   macro avg       0.93      0.93      0.93     40000\n",
      "weighted avg       0.93      0.93      0.93     40000\n",
      "\n",
      "AUC: 0.9746114875\n"
     ]
    }
   ],
   "source": [
    "def train_and_evaluate(model, model_name):\n",
    "    clf = Pipeline(steps=[('preprocessor', preprocessor), ('classifier', model)])\n",
    "    clf.fit(X_train, y_train)\n",
    "    y_pred = clf.predict(X_test)\n",
    "    y_proba = clf.predict_proba(X_test)[:, 1]\n",
    "\n",
    "    print(f\" {model_name} Results\")\n",
    "    print(\"=\" * 35)\n",
    "    print(classification_report(y_test, y_pred))\n",
    "    print(\"AUC:\", roc_auc_score(y_test, y_proba))\n",
    "\n",
    "train_and_evaluate(LogisticRegression(max_iter=1000), \"Logistic Regression\")\n",
    "train_and_evaluate(RandomForestClassifier(n_estimators=100, random_state=42), \"Random Forest\")\n",
    "train_and_evaluate(XGBClassifier(n_estimators=100, eval_metric='logloss', random_state=42), \"XGBoost\")\n"
   ]
  },
  {
   "cell_type": "markdown",
   "id": "c54dc2a3",
   "metadata": {},
   "source": [
    "Updated Code\n",
    "\n",
    "- Dataset limited to 200,000 rows (100,000 each) before it was 360,238 rows\n",
    "\n",
    "- Cross-validation reduced to 4 folds. Had to reduce from five because it was preventing an output\n",
    "\n",
    "- RandomForest & XGBoost trees lowered from 100 to 70.\n",
    "\n",
    "- Parallel processing (n_jobs=-1) enabled for RandomForest and XGBoost.\n",
    "\n",
    "- Predict the likelihood of a loan defaulting"
   ]
  },
  {
   "cell_type": "code",
   "execution_count": 28,
   "id": "f1cf1ea4",
   "metadata": {},
   "outputs": [
    {
     "name": "stdout",
     "output_type": "stream",
     "text": [
      "Balanced dataset shape: (200000, 44)\n",
      "Default\n",
      "1    100000\n",
      "0    100000\n",
      "Name: count, dtype: int64\n",
      "\n",
      "Logistic Regression Test Results\n",
      "==================================================\n",
      "              precision    recall  f1-score   support\n",
      "\n",
      "           0       0.80      0.73      0.76     20000\n",
      "           1       0.75      0.82      0.79     20000\n",
      "\n",
      "    accuracy                           0.77     40000\n",
      "   macro avg       0.78      0.77      0.77     40000\n",
      "weighted avg       0.78      0.77      0.77     40000\n",
      "\n",
      "AUC: 0.8416\n",
      "Confusion Matrix:\n",
      "[[14517  5483]\n",
      " [ 3526 16474]]\n"
     ]
    },
    {
     "data": {
      "image/png": "[encoded data removed]",
      "text/plain": [
       "<Figure size 500x400 with 1 Axes>"
      ]
     },
     "metadata": {},
     "output_type": "display_data"
    },
    {
     "name": "stdout",
     "output_type": "stream",
     "text": [
      "\n",
      "Logistic Regression Cross-Validation Metrics (4-fold)\n",
      "=======================================================\n",
      "Mean AUC: 0.8441\n",
      "Mean F1:  0.7874\n",
      "Mean Acc: 0.7778\n",
      "\n",
      "Random Forest Test Results\n",
      "==================================================\n",
      "              precision    recall  f1-score   support\n",
      "\n",
      "           0       0.92      0.90      0.91     20000\n",
      "           1       0.90      0.92      0.91     20000\n",
      "\n",
      "    accuracy                           0.91     40000\n",
      "   macro avg       0.91      0.91      0.91     40000\n",
      "weighted avg       0.91      0.91      0.91     40000\n",
      "\n",
      "AUC: 0.9646\n",
      "Confusion Matrix:\n",
      "[[17989  2011]\n",
      " [ 1543 18457]]\n"
     ]
    },
    {
     "data": {
      "image/png": "[encoded data removed]",
      "text/plain": [
       "<Figure size 500x400 with 1 Axes>"
      ]
     },
     "metadata": {},
     "output_type": "display_data"
    },
    {
     "name": "stdout",
     "output_type": "stream",
     "text": [
      "\n",
      "Random Forest Cross-Validation Metrics (4-fold)\n",
      "=======================================================\n",
      "Mean AUC: 0.9648\n",
      "Mean F1:  0.9119\n",
      "Mean Acc: 0.9109\n",
      "\n",
      "XGBoost Test Results\n",
      "==================================================\n",
      "              precision    recall  f1-score   support\n",
      "\n",
      "           0       0.94      0.91      0.93     20000\n",
      "           1       0.91      0.95      0.93     20000\n",
      "\n",
      "    accuracy                           0.93     40000\n",
      "   macro avg       0.93      0.93      0.93     40000\n",
      "weighted avg       0.93      0.93      0.93     40000\n",
      "\n",
      "AUC: 0.9741\n",
      "Confusion Matrix:\n",
      "[[18199  1801]\n",
      " [ 1092 18908]]\n"
     ]
    },
    {
     "data": {
      "image/png": "[encoded data removed]",
      "text/plain": [
       "<Figure size 500x400 with 1 Axes>"
      ]
     },
     "metadata": {},
     "output_type": "display_data"
    },
    {
     "name": "stdout",
     "output_type": "stream",
     "text": [
      "\n",
      "XGBoost Cross-Validation Metrics (4-fold)\n",
      "=======================================================\n",
      "Mean AUC: 0.9739\n",
      "Mean F1:  0.9280\n",
      "Mean Acc: 0.9267\n"
     ]
    },
    {
     "data": {
      "image/png": "[encoded data removed]",
      "text/plain": [
       "<Figure size 800x600 with 1 Axes>"
      ]
     },
     "metadata": {},
     "output_type": "display_data"
    }
   ],
   "source": [
    "import pandas as pd\n",
    "import numpy as np\n",
    "import matplotlib.pyplot as plt\n",
    "import seaborn as sns\n",
    "\n",
    "from sklearn.model_selection import train_test_split, cross_validate, StratifiedKFold\n",
    "from sklearn.preprocessing import OneHotEncoder, StandardScaler\n",
    "from sklearn.impute import SimpleImputer\n",
    "from sklearn.pipeline import Pipeline\n",
    "from sklearn.compose import ColumnTransformer\n",
    "from sklearn.metrics import classification_report, roc_auc_score, confusion_matrix\n",
    "from sklearn.linear_model import LogisticRegression\n",
    "from sklearn.ensemble import RandomForestClassifier\n",
    "from xgboost import XGBClassifier\n",
    "\n",
    "# Load CSV\n",
    "df = pd.read_csv('/Users/caitlyndinh/ai-academy/FinalProject/merged_with_naics.csv', low_memory=False)\n",
    "\n",
    "# Target column\n",
    "df['Default'] = df['ChargeOffDate'].notna().astype(int)\n",
    "df = df.dropna(subset=['Default'])\n",
    "\n",
    "# Balanced sample (100,000 defaults + 100,000 non-defaults)\n",
    "defaults = df[df['Default'] == 1]\n",
    "non_defaults = df[df['Default'] == 0]\n",
    "\n",
    "defaults_sample = defaults.sample(n=min(100000, len(defaults)), random_state=42)\n",
    "non_defaults_sample = non_defaults.sample(n=min(100000, len(non_defaults)), random_state=42)\n",
    "\n",
    "df = pd.concat([defaults_sample, non_defaults_sample])\n",
    "print(f\"Balanced dataset shape: {df.shape}\")\n",
    "print(df['Default'].value_counts())\n",
    "\n",
    "# Remove leakage columns\n",
    "leakage_cols = ['ChargeOffDate', 'GrossChargeOffAmount', 'PaidInFullDate', 'LoanStatus', 'FirstDisbursementDate']\n",
    "df = df.drop(columns=[col for col in leakage_cols if col in df.columns])\n",
    "\n",
    "# Features\n",
    "features = [\n",
    "    'Program', 'Subprogram', 'GrossApproval', 'SBAGuaranteedApproval', 'ApprovalDate',\n",
    "    'InitialInterestRate', 'FixedOrVariableInterestInd', 'TermInMonths',\n",
    "    'BusinessType', 'BusinessAge', 'CollateralInd', 'RevolverStatus', 'JobsSupported', 'ProjectState'\n",
    "]\n",
    "\n",
    "X = df[features].copy()\n",
    "y = df['Default']\n",
    "\n",
    "# Process ApprovalDate\n",
    "X['ApprovalDate'] = pd.to_datetime(X['ApprovalDate'], errors='coerce')\n",
    "X['ApprovalYear'] = X['ApprovalDate'].dt.year\n",
    "X['ApprovalMonth'] = X['ApprovalDate'].dt.month\n",
    "X = X.drop(columns=['ApprovalDate'])\n",
    "\n",
    "numeric_features = ['GrossApproval', 'SBAGuaranteedApproval', 'InitialInterestRate',\n",
    "                    'TermInMonths', 'JobsSupported', 'ApprovalYear', 'ApprovalMonth']\n",
    "\n",
    "categorical_features = [col for col in X.columns if col not in numeric_features]\n",
    "\n",
    "numeric_transformer = Pipeline(steps=[\n",
    "    ('imputer', SimpleImputer(strategy='median')),\n",
    "    ('scaler', StandardScaler()) \n",
    "])\n",
    "\n",
    "categorical_transformer = Pipeline(steps=[\n",
    "    ('imputer', SimpleImputer(strategy='most_frequent')),\n",
    "    ('encoder', OneHotEncoder(handle_unknown='ignore', sparse_output=True))\n",
    "])\n",
    "\n",
    "preprocessor = ColumnTransformer(\n",
    "    transformers=[\n",
    "        ('num', numeric_transformer, numeric_features),\n",
    "        ('cat', categorical_transformer, categorical_features)\n",
    "    ]\n",
    ")\n",
    "\n",
    "# Train / Test split\n",
    "X_train, X_test, y_train, y_test = train_test_split(\n",
    "    X, y, stratify=y, test_size=0.2, random_state=42\n",
    ")\n",
    "\n",
    "# Helpers\n",
    "\n",
    "metrics_dict = {}\n",
    "cv = StratifiedKFold(n_splits=4, shuffle=True, random_state=42)  # 4-fold CV\n",
    "\n",
    "def plot_confusion_matrix(cm, model_name):\n",
    "    plt.figure(figsize=(5, 4))\n",
    "    sns.heatmap(cm, annot=True, fmt='d', cmap='Blues', cbar=False)\n",
    "    plt.title(f'{model_name} Confusion Matrix')\n",
    "    plt.xlabel('Predicted')\n",
    "    plt.ylabel('Actual')\n",
    "    plt.show()\n",
    "\n",
    "def cross_val_metrics(model, model_name):\n",
    "    clf = Pipeline(steps=[('preprocessor', preprocessor), ('classifier', model)])\n",
    "    scoring = ['roc_auc', 'f1', 'accuracy']\n",
    "    scores = cross_validate(clf, X_train, y_train, cv=cv, scoring=scoring, n_jobs=-1)\n",
    "\n",
    "    metrics_dict[model_name] = {\n",
    "        'AUC': scores['test_roc_auc'].mean(),\n",
    "        'F1': scores['test_f1'].mean(),\n",
    "        'Accuracy': scores['test_accuracy'].mean()\n",
    "    }\n",
    "\n",
    "    print(f\"\\n{model_name} Cross-Validation Metrics (4-fold)\")\n",
    "    print(\"=\" * 55)\n",
    "    print(f\"Mean AUC: {metrics_dict[model_name]['AUC']:.4f}\")\n",
    "    print(f\"Mean F1:  {metrics_dict[model_name]['F1']:.4f}\")\n",
    "    print(f\"Mean Acc: {metrics_dict[model_name]['Accuracy']:.4f}\")\n",
    "\n",
    "def train_and_evaluate(model, model_name):\n",
    "    clf = Pipeline(steps=[('preprocessor', preprocessor), ('classifier', model)])\n",
    "\n",
    "    # Fit without early stopping\n",
    "    clf.fit(X_train, y_train)\n",
    "\n",
    "    inner_clf = clf.named_steps['classifier']\n",
    "    if isinstance(inner_clf, XGBClassifier) and hasattr(inner_clf, 'best_iteration'):\n",
    "        print(f\"[{model_name}] Early stopping best_iteration: {inner_clf.best_iteration}\")\n",
    "\n",
    "    y_pred = clf.predict(X_test)\n",
    "    if hasattr(clf.named_steps['classifier'], \"predict_proba\"):\n",
    "        y_proba = clf.predict_proba(X_test)[:, 1]\n",
    "        auc = roc_auc_score(y_test, y_proba)\n",
    "    else:\n",
    "        y_proba = None\n",
    "        auc = None\n",
    "\n",
    "    print(f\"\\n{model_name} Test Results\")\n",
    "    print(\"=\" * 50)\n",
    "    print(classification_report(y_test, y_pred))\n",
    "    if auc is not None:\n",
    "        print(f\"AUC: {auc:.4f}\")\n",
    "\n",
    "    cm = confusion_matrix(y_test, y_pred)\n",
    "    print(\"Confusion Matrix:\")\n",
    "    print(cm)\n",
    "    plot_confusion_matrix(cm, model_name)\n",
    "\n",
    "    # Cross-validation\n",
    "    cross_val_metrics(model, model_name)\n",
    "\n",
    "def plot_metrics_comparison(metrics_dict):\n",
    "    metrics_df = pd.DataFrame(metrics_dict).T\n",
    "    metrics_df.plot(kind='bar', figsize=(8, 6))\n",
    "    plt.title(\"Cross-Validation Metrics Comparison (4-fold)\")\n",
    "    plt.ylabel(\"Score\")\n",
    "    plt.xticks(rotation=0)\n",
    "    plt.legend(loc='lower right')\n",
    "    plt.tight_layout()\n",
    "    plt.show()\n",
    "\n",
    "# -------------------------\n",
    "# Train & Evaluate\n",
    "# -------------------------\n",
    "train_and_evaluate(LogisticRegression(max_iter=1000, solver='liblinear'), \"Logistic Regression\")\n",
    "train_and_evaluate(RandomForestClassifier(n_estimators=75, random_state=42, n_jobs=-1), \"Random Forest\")\n",
    "train_and_evaluate(XGBClassifier(n_estimators=75, eval_metric='logloss',\n",
    "                                 random_state=42, n_jobs=-1), \"XGBoost\")\n",
    "\n",
    "# Compare CV metrics\n",
    "plot_metrics_comparison(metrics_dict)\n"
   ]
  }
 ],
 "metadata": {
  "kernelspec": {
   "display_name": "aiml-academy",
   "language": "python",
   "name": "python3"
  },
  "language_info": {
   "codemirror_mode": {
    "name": "ipython",
    "version": 3
   },
   "file_extension": ".py",
   "mimetype": "text/x-python",
   "name": "python",
   "nbconvert_exporter": "python",
   "pygments_lexer": "ipython3",
   "version": "3.9.23"
  }
 },
 "nbformat": 4,
 "nbformat_minor": 5
}
