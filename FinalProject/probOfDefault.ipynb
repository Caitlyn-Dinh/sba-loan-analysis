{
 "cells": [
  {
   "cell_type": "markdown",
   "id": "7af48344",
   "metadata": {},
   "source": [
    "Imports"
   ]
  },
  {
   "cell_type": "code",
   "execution_count": 16,
   "id": "922859b8",
   "metadata": {},
   "outputs": [],
   "source": [
    "import pandas as pd\n",
    "import numpy as np\n",
    "from sklearn.model_selection import train_test_split\n",
    "from sklearn.preprocessing import OneHotEncoder, StandardScaler\n",
    "from sklearn.impute import SimpleImputer\n",
    "from sklearn.pipeline import Pipeline\n",
    "from sklearn.compose import ColumnTransformer\n",
    "from sklearn.metrics import classification_report, roc_auc_score\n",
    "from sklearn.linear_model import LogisticRegression\n",
    "from sklearn.ensemble import RandomForestClassifier\n",
    "from xgboost import XGBClassifier\n"
   ]
  },
  {
   "cell_type": "markdown",
   "id": "fcb364c6",
   "metadata": {},
   "source": [
    "Load and Sample Data"
   ]
  },
  {
   "cell_type": "code",
   "execution_count": 5,
   "id": "7e1dfbf6",
   "metadata": {},
   "outputs": [
    {
     "data": {
      "text/plain": [
       "(50000, 43)"
      ]
     },
     "execution_count": 5,
     "metadata": {},
     "output_type": "execute_result"
    }
   ],
   "source": [
    "# Load CSV\n",
    "df = pd.read_csv('/Users/caitlyndinh/ai-academy/FinalProject/merged_with_naics.csv', low_memory=False)\n",
    "\n",
    "# Sample to reduce memory use\n",
    "df = df.sample(n=50000, random_state=42)  # Change sample size if needed\n",
    "df.shape\n"
   ]
  },
  {
   "cell_type": "markdown",
   "id": "7fbb469a",
   "metadata": {},
   "source": [
    "Create Target Variable"
   ]
  },
  {
   "cell_type": "code",
   "execution_count": 6,
   "id": "7e6fb7bf",
   "metadata": {},
   "outputs": [
    {
     "data": {
      "text/plain": [
       "Default\n",
       "0    44229\n",
       "1     5771\n",
       "Name: count, dtype: int64"
      ]
     },
     "execution_count": 6,
     "metadata": {},
     "output_type": "execute_result"
    }
   ],
   "source": [
    "df['Default'] = df['ChargeOffDate'].notna().astype(int)\n",
    "df = df.dropna(subset=['Default'])\n",
    "df['Default'].value_counts()\n"
   ]
  },
  {
   "cell_type": "markdown",
   "id": "9f4585ae",
   "metadata": {},
   "source": [
    "Drop Leakage Columns"
   ]
  },
  {
   "cell_type": "code",
   "execution_count": 7,
   "id": "4afd81ef",
   "metadata": {},
   "outputs": [],
   "source": [
    "leakage_cols = ['ChargeOffDate', 'GrossChargeOffAmount', 'PaidInFullDate', 'LoanStatus', 'FirstDisbursementDate']\n",
    "df = df.drop(columns=[col for col in leakage_cols if col in df.columns])\n"
   ]
  },
  {
   "cell_type": "markdown",
   "id": "71dc023d",
   "metadata": {},
   "source": [
    "Feature Selection"
   ]
  },
  {
   "cell_type": "code",
   "execution_count": 8,
   "id": "f68ce0e7",
   "metadata": {},
   "outputs": [],
   "source": [
    "features = [\n",
    "    'Program', 'Subprogram', 'GrossApproval', 'SBAGuaranteedApproval', 'ApprovalDate',\n",
    "    'InitialInterestRate', 'FixedOrVariableInterestInd', 'TermInMonths',\n",
    "    'BusinessType', 'BusinessAge', 'CollateralInd', 'RevolverStatus', 'JobsSupported', 'ProjectState'\n",
    "]\n",
    "\n",
    "X = df[features].copy()\n",
    "y = df['Default']\n"
   ]
  },
  {
   "cell_type": "markdown",
   "id": "66fe8bdc",
   "metadata": {},
   "source": [
    "Feature Engineering on Dates"
   ]
  },
  {
   "cell_type": "code",
   "execution_count": 9,
   "id": "d1f63840",
   "metadata": {},
   "outputs": [],
   "source": [
    "X['ApprovalDate'] = pd.to_datetime(X['ApprovalDate'], errors='coerce')\n",
    "X['ApprovalYear'] = X['ApprovalDate'].dt.year\n",
    "X['ApprovalMonth'] = X['ApprovalDate'].dt.month\n",
    "X = X.drop(columns=['ApprovalDate'])\n"
   ]
  },
  {
   "cell_type": "markdown",
   "id": "0bd2299b",
   "metadata": {},
   "source": [
    "Define Column Types"
   ]
  },
  {
   "cell_type": "code",
   "execution_count": 10,
   "id": "33cdda6e",
   "metadata": {},
   "outputs": [],
   "source": [
    "numeric_features = ['GrossApproval', 'SBAGuaranteedApproval', 'InitialInterestRate',\n",
    "                    'TermInMonths', 'JobsSupported', 'ApprovalYear', 'ApprovalMonth']\n",
    "\n",
    "categorical_features = [col for col in X.columns if col not in numeric_features]\n"
   ]
  },
  {
   "cell_type": "markdown",
   "id": "c434706f",
   "metadata": {},
   "source": [
    "Preprocessing Pipelines"
   ]
  },
  {
   "cell_type": "code",
   "execution_count": 19,
   "id": "c7eefb97",
   "metadata": {},
   "outputs": [],
   "source": [
    "numeric_transformer = Pipeline(steps=[\n",
    "    ('imputer', SimpleImputer(strategy='median')),\n",
    "    ('scaler', StandardScaler()) \n",
    "])\n",
    "\n",
    "categorical_transformer = Pipeline(steps=[\n",
    "    ('imputer', SimpleImputer(strategy='most_frequent')),\n",
    "    ('encoder', OneHotEncoder(handle_unknown='ignore', sparse_output=True))  # sparse to save memory\n",
    "])\n",
    "\n",
    "preprocessor = ColumnTransformer(\n",
    "    transformers=[\n",
    "        ('num', numeric_transformer, numeric_features),\n",
    "        ('cat', categorical_transformer, categorical_features)\n",
    "    ]\n",
    ")\n"
   ]
  },
  {
   "cell_type": "markdown",
   "id": "6ea572a9",
   "metadata": {},
   "source": [
    "Split the Data"
   ]
  },
  {
   "cell_type": "code",
   "execution_count": 13,
   "id": "a231ac3d",
   "metadata": {},
   "outputs": [
    {
     "data": {
      "text/plain": [
       "((40000, 15), (10000, 15))"
      ]
     },
     "execution_count": 13,
     "metadata": {},
     "output_type": "execute_result"
    }
   ],
   "source": [
    "X_train, X_test, y_train, y_test = train_test_split(\n",
    "    X, y, stratify=y, test_size=0.2, random_state=42\n",
    ")\n",
    "\n",
    "X_train.shape, X_test.shape\n"
   ]
  },
  {
   "cell_type": "markdown",
   "id": "9ad51ac2",
   "metadata": {},
   "source": [
    "Define Training & Evaluation Function"
   ]
  },
  {
   "cell_type": "code",
   "execution_count": 18,
   "id": "4bae1296",
   "metadata": {},
   "outputs": [
    {
     "name": "stderr",
     "output_type": "stream",
     "text": [
      "/opt/anaconda3/envs/aiml-academy/lib/python3.9/site-packages/sklearn/linear_model/_logistic.py:465: ConvergenceWarning: lbfgs failed to converge (status=1):\n",
      "STOP: TOTAL NO. of ITERATIONS REACHED LIMIT.\n",
      "\n",
      "Increase the number of iterations (max_iter) or scale the data as shown in:\n",
      "    https://scikit-learn.org/stable/modules/preprocessing.html\n",
      "Please also refer to the documentation for alternative solver options:\n",
      "    https://scikit-learn.org/stable/modules/linear_model.html#logistic-regression\n",
      "  n_iter_i = _check_optimize_result(\n"
     ]
    },
    {
     "name": "stdout",
     "output_type": "stream",
     "text": [
      " Logistic Regression Results\n",
      "===================================\n",
      "              precision    recall  f1-score   support\n",
      "\n",
      "           0       0.90      0.99      0.94      8846\n",
      "           1       0.65      0.18      0.28      1154\n",
      "\n",
      "    accuracy                           0.89     10000\n",
      "   macro avg       0.78      0.58      0.61     10000\n",
      "weighted avg       0.87      0.89      0.87     10000\n",
      "\n",
      "AUC: 0.8443066435063915\n",
      " Random Forest Results\n",
      "===================================\n",
      "              precision    recall  f1-score   support\n",
      "\n",
      "           0       0.94      0.98      0.96      8846\n",
      "           1       0.77      0.51      0.61      1154\n",
      "\n",
      "    accuracy                           0.93     10000\n",
      "   macro avg       0.85      0.75      0.79     10000\n",
      "weighted avg       0.92      0.93      0.92     10000\n",
      "\n",
      "AUC: 0.9409743596475177\n"
     ]
    },
    {
     "name": "stderr",
     "output_type": "stream",
     "text": [
      "/opt/anaconda3/envs/aiml-academy/lib/python3.9/site-packages/xgboost/core.py:158: UserWarning: [14:40:51] WARNING: /Users/runner/work/xgboost/xgboost/src/learner.cc:740: \n",
      "Parameters: { \"use_label_encoder\" } are not used.\n",
      "\n",
      "  warnings.warn(smsg, UserWarning)\n"
     ]
    },
    {
     "name": "stdout",
     "output_type": "stream",
     "text": [
      " XGBoost Results\n",
      "===================================\n",
      "              precision    recall  f1-score   support\n",
      "\n",
      "           0       0.96      0.97      0.97      8846\n",
      "           1       0.76      0.70      0.73      1154\n",
      "\n",
      "    accuracy                           0.94     10000\n",
      "   macro avg       0.86      0.83      0.85     10000\n",
      "weighted avg       0.94      0.94      0.94     10000\n",
      "\n",
      "AUC: 0.9674460467596708\n"
     ]
    }
   ],
   "source": [
    "def train_and_evaluate(model, model_name):\n",
    "    clf = Pipeline(steps=[('preprocessor', preprocessor), ('classifier', model)])\n",
    "    clf.fit(X_train, y_train)\n",
    "    y_pred = clf.predict(X_test)\n",
    "    y_proba = clf.predict_proba(X_test)[:, 1]\n",
    "\n",
    "    print(f\" {model_name} Results\")\n",
    "    print(\"=\" * 35)\n",
    "    print(classification_report(y_test, y_pred))\n",
    "    print(\"AUC:\", roc_auc_score(y_test, y_proba))\n",
    "\n",
    "train_and_evaluate(LogisticRegression(max_iter=1000), \"Logistic Regression\")\n",
    "train_and_evaluate(RandomForestClassifier(n_estimators=100, random_state=42), \"Random Forest\")\n",
    "train_and_evaluate(XGBClassifier(n_estimators=100, use_label_encoder=False, eval_metric='logloss', random_state=42), \"XGBoost\")\n"
   ]
  }
 ],
 "metadata": {
  "kernelspec": {
   "display_name": "aiml-academy",
   "language": "python",
   "name": "python3"
  },
  "language_info": {
   "codemirror_mode": {
    "name": "ipython",
    "version": 3
   },
   "file_extension": ".py",
   "mimetype": "text/x-python",
   "name": "python",
   "nbconvert_exporter": "python",
   "pygments_lexer": "ipython3",
   "version": "3.9.23"
  }
 },
 "nbformat": 4,
 "nbformat_minor": 5
}
